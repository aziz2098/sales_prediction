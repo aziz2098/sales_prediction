{
  "nbformat": 4,
  "nbformat_minor": 0,
  "metadata": {
    "colab": {
      "provenance": [],
      "authorship_tag": "ABX9TyPVpCQM0I1eAdgMIbW0L9TR",
      "include_colab_link": true
    },
    "kernelspec": {
      "name": "python3",
      "display_name": "Python 3"
    },
    "language_info": {
      "name": "python"
    }
  },
  "cells": [
    {
      "cell_type": "markdown",
      "metadata": {
        "id": "view-in-github",
        "colab_type": "text"
      },
      "source": [
        "<a href=\"https://colab.research.google.com/github/aziz2098/sales_prediction/blob/main/data%20cleaning.ipynb\" target=\"_parent\"><img src=\"https://colab.research.google.com/assets/colab-badge.svg\" alt=\"Open In Colab\"/></a>"
      ]
    },
    {
      "cell_type": "code",
      "source": [
        "import pandas as pd\n",
        "\n",
        "bike_df = pd.read_excel('/content/RailsToTrails.xlsx')\n",
        "print(bike_df.head())"
      ],
      "metadata": {
        "id": "U6g5uwvsEp_O",
        "colab": {
          "base_uri": "https://localhost:8080/"
        },
        "outputId": "70eb1581-32d8-4ef6-fce9-a91d7a0e3f1e"
      },
      "execution_count": 58,
      "outputs": [
        {
          "output_type": "stream",
          "name": "stdout",
          "text": [
            "  Timeframe    Week of   2019 counts (31 counters)  \\\n",
            "0    Week 1 2020-12-30                      167679   \n",
            "1    Week 2 2020-01-06                       82340   \n",
            "2    Week 3 2020-01-13                       62315   \n",
            "3    Week 4 2020-01-20                       75801   \n",
            "4    Week 5 2020-01-27                       75841   \n",
            "\n",
            "    2020 counts (31 counters)  2021 Counts  Change 2019-2020  Unnamed: 6  \\\n",
            "0                      183546          NaN          0.094627    1.094627   \n",
            "1                       97140          NaN          0.179743  117.974253   \n",
            "2                       75782          NaN          0.216112  121.611169   \n",
            "3                       83809          NaN          0.105645  110.564504   \n",
            "4                       94738          NaN          0.249166  124.916602   \n",
            "\n",
            "   Unnamed: 7  Unnamed: 8  Unnamed: 9  \n",
            "0         NaN         NaN         NaN  \n",
            "1         NaN         NaN         NaN  \n",
            "2         NaN         NaN         NaN  \n",
            "3         NaN         NaN         NaN  \n",
            "4         NaN         NaN         NaN  \n"
          ]
        }
      ]
    },
    {
      "cell_type": "code",
      "source": [
        "df_filtered = bike_df[bike_df['Week of'] >= '1/8/2020']\n",
        "print(df_filtered)\n",
        "print(len(df_filtered))"
      ],
      "metadata": {
        "id": "eVX1xB2UHkyW"
      },
      "execution_count": null,
      "outputs": []
    },
    {
      "cell_type": "code",
      "source": [
        "filter1 = bike_df[bike_df['Change 2019-2020'] > 0.5 ]\n",
        "print(len(filter1))\n",
        "print(filter1)"
      ],
      "metadata": {
        "id": "-rzgHYPXzS00"
      },
      "execution_count": null,
      "outputs": []
    },
    {
      "cell_type": "code",
      "source": [
        "\n",
        "filter2 = bike_df[(bike_df['Week of'] > '01/08/2022') & (bike_df['Change 2019-2020'] > 1)]\n",
        "print(len(filter2))\n",
        "print(filter2)"
      ],
      "metadata": {
        "colab": {
          "base_uri": "https://localhost:8080/"
        },
        "id": "RNcKpXHL0sRv",
        "outputId": "b988961d-652e-482f-99ed-3bf563938623"
      },
      "execution_count": 57,
      "outputs": [
        {
          "output_type": "stream",
          "name": "stdout",
          "text": [
            "0\n",
            "Empty DataFrame\n",
            "Columns: [Timeframe, Week of,  2019 counts (31 counters),  2020 counts (31 counters), 2021 Counts, Change 2019-2020, Unnamed: 6, Unnamed: 7, Unnamed: 8, Unnamed: 9]\n",
            "Index: []\n"
          ]
        }
      ]
    },
    {
      "cell_type": "code",
      "source": [
        "filter3 = bike_df[(bike_df['Week of'] > '01/08/2022') & (bike_df['Change 2019-2020'] > 0.5)]\n",
        "print(filter3)"
      ],
      "metadata": {
        "colab": {
          "base_uri": "https://localhost:8080/"
        },
        "id": "D7rt2MXA5FRy",
        "outputId": "451f3026-8b98-4f5e-dd65-fcfb8a70800f"
      },
      "execution_count": 59,
      "outputs": [
        {
          "output_type": "stream",
          "name": "stdout",
          "text": [
            "Empty DataFrame\n",
            "Columns: [Timeframe, Week of,  2019 counts (31 counters),  2020 counts (31 counters), 2021 Counts, Change 2019-2020, Unnamed: 6, Unnamed: 7, Unnamed: 8, Unnamed: 9]\n",
            "Index: []\n"
          ]
        }
      ]
    }
  ]
}